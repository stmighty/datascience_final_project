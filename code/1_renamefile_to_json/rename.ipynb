{
 "cells": [
  {
   "cell_type": "markdown",
   "metadata": {},
   "source": [
    "1. How to iterate through folder : https://www.geeksforgeeks.org/how-to-iterate-over-files-in-directory-using-python/\n",
    "2. How to rename file : https://favtutor.com/blogs/rename-file-python\n",
    "3. how to check if file end with : https://www.w3schools.com/python/ref_string_endswith.asp\n"
   ]
  },
  {
   "cell_type": "markdown",
   "metadata": {},
   "source": [
    "# 1. test (basic practice)"
   ]
  },
  {
   "cell_type": "code",
   "execution_count": 8,
   "metadata": {},
   "outputs": [
    {
     "name": "stdout",
     "output_type": "stream",
     "text": [
      "filename is : 2022\n",
      "f is : ../../data/project/2022\n",
      "\n",
      "filename is : 2023\n",
      "f is : ../../data/project/2023\n",
      "\n",
      "filename is : 2019\n",
      "f is : ../../data/project/2019\n",
      "\n",
      "filename is : 2021\n",
      "f is : ../../data/project/2021\n",
      "\n",
      "filename is : 2020\n",
      "f is : ../../data/project/2020\n",
      "\n",
      "filename is : 2018\n",
      "f is : ../../data/project/2018\n",
      "\n"
     ]
    }
   ],
   "source": [
    "import os\n",
    "directory = '../../data/project'\n",
    " \n",
    "for filename in os.listdir(directory):\n",
    "    print(\"filename is :\", filename)\n",
    "    f = os.path.join(directory, filename)\n",
    "    print(\"f is :\", f)\n",
    "    print()"
   ]
  },
  {
   "cell_type": "code",
   "execution_count": 17,
   "metadata": {},
   "outputs": [
    {
     "name": "stdout",
     "output_type": "stream",
     "text": [
      "../../data/project/2022\n",
      "../../data/project/2022/202201904\n",
      "<class 'str'>\n",
      "\n",
      "../../data/project/2023\n",
      "../../data/project/2023/202300950\n",
      "<class 'str'>\n",
      "\n",
      "../../data/project/2019\n",
      "../../data/project/2019/201900136\n",
      "<class 'str'>\n",
      "\n",
      "../../data/project/2021\n",
      "../../data/project/2021/202101117\n",
      "<class 'str'>\n",
      "\n",
      "../../data/project/2020\n",
      "../../data/project/2020/202001091\n",
      "<class 'str'>\n",
      "\n",
      "../../data/project/2018\n",
      "../../data/project/2018/201801162\n",
      "<class 'str'>\n",
      "\n"
     ]
    }
   ],
   "source": [
    "import os\n",
    "directory = '../../data/project'\n",
    " \n",
    "for subdir in os.listdir(directory):\n",
    "    f1 = os.path.join(directory, subdir)\n",
    "    print(f1)\n",
    "    for filename in os.listdir(f1) :\n",
    "        f2 = os.path.join(f1, filename)\n",
    "        print(f2)\n",
    "        print(type(f2))\n",
    "        print()\n",
    "        break \n",
    "        "
   ]
  },
  {
   "cell_type": "code",
   "execution_count": 20,
   "metadata": {},
   "outputs": [
    {
     "name": "stdout",
     "output_type": "stream",
     "text": [
      "../../data/project/2022\n",
      "../../data/project/2022/202202749\n",
      "<class 'str'>\n",
      "\n",
      "../../data/project/2022/202202749.json\n",
      "../../data/project/2023\n",
      "../../data/project/2023/202302409\n",
      "<class 'str'>\n",
      "\n",
      "../../data/project/2023/202302409.json\n",
      "../../data/project/2019\n",
      "../../data/project/2019/201901480\n",
      "<class 'str'>\n",
      "\n",
      "../../data/project/2019/201901480.json\n",
      "../../data/project/2021\n",
      "../../data/project/2021/202103472\n",
      "<class 'str'>\n",
      "\n",
      "../../data/project/2021/202103472.json\n",
      "../../data/project/2020\n",
      "../../data/project/2020/202002426\n",
      "<class 'str'>\n",
      "\n",
      "../../data/project/2020/202002426.json\n",
      "../../data/project/2018\n",
      "../../data/project/2018/201802383\n",
      "<class 'str'>\n",
      "\n",
      "../../data/project/2018/201802383.json\n"
     ]
    }
   ],
   "source": [
    "import os\n",
    "directory = '../../data/project'\n",
    " \n",
    "for subdir in os.listdir(directory):\n",
    "    f1 = os.path.join(directory, subdir)\n",
    "    print(f1)\n",
    "    for filename in os.listdir(f1) :\n",
    "        f2 = os.path.join(f1, filename)\n",
    "        print(f2)\n",
    "        print(type(f2))\n",
    "        print()\n",
    "        if not filename.endswith('.json') :\n",
    "            new_f2 = f2 + '.json'\n",
    "            os.rename(f2, new_f2)\n",
    "            print(new_f2)\n",
    "            \n",
    "        break"
   ]
  },
  {
   "cell_type": "markdown",
   "metadata": {},
   "source": [
    "# 2. rename"
   ]
  },
  {
   "cell_type": "code",
   "execution_count": 24,
   "metadata": {},
   "outputs": [],
   "source": [
    "import os\n",
    "directory = '../../data/project'\n",
    " \n",
    "for subdir in os.listdir(directory):\n",
    "    f1 = os.path.join(directory, subdir)\n",
    "    for filename in os.listdir(f1) :\n",
    "        f2 = os.path.join(f1, filename)\n",
    "        if not filename.endswith('.json') :\n",
    "            new_f2 = f2 + '.json'\n",
    "            os.rename(f2, new_f2)\n",
    "            print(\"convert to json\")\n",
    "            \n",
    "        \n",
    "        "
   ]
  }
 ],
 "metadata": {
  "kernelspec": {
   "display_name": "datascience_finalproject",
   "language": "python",
   "name": "python3"
  },
  "language_info": {
   "codemirror_mode": {
    "name": "ipython",
    "version": 3
   },
   "file_extension": ".py",
   "mimetype": "text/x-python",
   "name": "python",
   "nbconvert_exporter": "python",
   "pygments_lexer": "ipython3",
   "version": "3.10.14"
  }
 },
 "nbformat": 4,
 "nbformat_minor": 2
}
