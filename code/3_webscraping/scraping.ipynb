{
 "cells": [
  {
   "cell_type": "code",
   "execution_count": 8,
   "metadata": {},
   "outputs": [],
   "source": [
    "import requests\n",
    "import re\n",
    "import os\n",
    "from dotenv import load_dotenv\n",
    "from pathlib import Path\n",
    "from bs4 import BeautifulSoup"
   ]
  },
  {
   "cell_type": "markdown",
   "metadata": {},
   "source": [
    "load env"
   ]
  },
  {
   "cell_type": "code",
   "execution_count": 9,
   "metadata": {},
   "outputs": [],
   "source": [
    "dotenv_path = Path('../config/.env')\n",
    "config = load_dotenv(dotenv_path=dotenv_path)"
   ]
  },
  {
   "cell_type": "code",
   "execution_count": 10,
   "metadata": {},
   "outputs": [],
   "source": [
    "username = os.environ.get(\"username\")\n",
    "password = os.environ.get(\"password\")"
   ]
  },
  {
   "cell_type": "code",
   "execution_count": null,
   "metadata": {},
   "outputs": [],
   "source": [
    "import requests\n",
    "from bs4 import BeautifulSoup\n",
    "session = requests.Session()\n",
    "\n",
    "login_url = 'https://bigdata.com/login'\n",
    "credentials = {\n",
    "    'username': username,\n",
    "    'password': password\n",
    "}\n",
    "\n",
    "session.post(login_url, data=credentials)\n",
    "\n",
    "response = session.get('https://bigdata.com/data')\n",
    "soup = BeautifulSoup(response.text, 'html.parser')\n",
    "print(soup.prettify())\n",
    "\n"
   ]
  },
  {
   "cell_type": "markdown",
   "metadata": {},
   "source": [
    "# using beautiful soup without login (fail)"
   ]
  },
  {
   "cell_type": "code",
   "execution_count": null,
   "metadata": {},
   "outputs": [],
   "source": [
    "import requests\n",
    "import re\n",
    "from bs4 import BeautifulSoup"
   ]
  },
  {
   "cell_type": "code",
   "execution_count": null,
   "metadata": {},
   "outputs": [],
   "source": [
    "bigdata = requests.get('https://www-scopus-com.chula.idm.oclc.org/results/results.uri?sort=plf-f&src=s&sid=6a1c101025217859335e8fbcbc2a746f&sot=a&sdt=a&sl=42&s=ALL%28mahidol+university%29+AND+PUBYEAR+%3D+2024&origin=searchhistory&txGid=96d2c483c5068b1d5adbd38ade578008&sessionSearchId=6a1c101025217859335e8fbcbc2a746f&limit=10')"
   ]
  },
  {
   "cell_type": "code",
   "execution_count": null,
   "metadata": {},
   "outputs": [],
   "source": [
    "bigdata"
   ]
  },
  {
   "cell_type": "code",
   "execution_count": null,
   "metadata": {},
   "outputs": [],
   "source": [
    "bigdata.text"
   ]
  },
  {
   "cell_type": "code",
   "execution_count": null,
   "metadata": {},
   "outputs": [],
   "source": [
    "soup = BeautifulSoup(bigdata.text, \"lxml\")\n",
    "print(soup.prettify())"
   ]
  },
  {
   "cell_type": "markdown",
   "metadata": {},
   "source": [
    "# Beatiful soup with login (fail due to security and privacy reason)"
   ]
  },
  {
   "cell_type": "code",
   "execution_count": null,
   "metadata": {},
   "outputs": [],
   "source": [
    "import requests\n",
    "from bs4 import BeautifulSoup\n",
    "\n",
    "# Start a session\n",
    "session = requests.Session()\n",
    "\n",
    "# URL for the login page\n",
    "login_url = \"https://login.chula.idm.oclc.org/login?qurl=https://www.scopus.com%2fresults%2fresults.uri%3fsort%3dplf-f%26src%3ds%26sid%3d6a1c101025217859335e8fbcbc2a746f%26sot%3da%26sdt%3da%26sl%3d42%26s%3dALL%2528mahidol%2buniversity%2529%2bAND%2bPUBYEAR%2b%253D%2b2024%26origin%3dsearchhistory%26txGid%3d96d2c483c5068b1d5adbd38ade578008%26sessionSearchId%3d6a1c101025217859335e8fbcbc2a746f%26limit%3d10\"\n",
    "\n",
    "response = session.get(login_url)\n",
    "soup = BeautifulSoup(response.text, 'html.parser')\n",
    "login_action_url = \"https://login.chula.idm.oclc.org\" + soup.find('form', {'action': '/login'}).get('action')\n",
    "hidden_inputs = soup.find_all('input', type='hidden')\n",
    "form_data = {inp.get('name'): inp.get('value') for inp in hidden_inputs}\n",
    "\n",
    "# credentila\n",
    "form_data['user'] = username\n",
    "form_data['pass'] = password\n",
    "\n",
    "\n",
    "response = session.post(login_action_url, data=form_data)\n",
    "scopus_url = \"https://www-scopus-com.chula.idm.oclc.org/results/results.uri?sort=plf-f&src=s&sid=6a1c101025217859335e8fbcbc2a746f&sot=a&sdt=a&sl=42&s=ALL%28mahidol+university%29+AND+PUBYEAR+%3D+2024&origin=searchhistory&txGid=96d2c483c5068b1d5adbd38ade578008&sessionSearchId=6a1c101025217859335e8fbcbc2a746f&limit=10\"\n",
    "response = session.get(scopus_url)\n",
    "\n",
    "print(response.text)\n",
    "\n"
   ]
  },
  {
   "cell_type": "markdown",
   "metadata": {},
   "source": [
    "# selenium"
   ]
  },
  {
   "cell_type": "markdown",
   "metadata": {},
   "source": [
    "## v.1 (only login)"
   ]
  },
  {
   "cell_type": "code",
   "execution_count": null,
   "metadata": {},
   "outputs": [],
   "source": [
    "from selenium import webdriver\n",
    "from selenium.webdriver.common.by import By\n",
    "from selenium.webdriver.support.ui import WebDriverWait\n",
    "from selenium.webdriver.support import expected_conditions as EC\n",
    "\n",
    "# Set up the Chrome driver\n",
    "driver = webdriver.Chrome()\n",
    "\n",
    "# Open the login page\n",
    "driver.get('https://login.chula.idm.oclc.org/login?qurl=https://www.scopus.com')\n",
    "\n",
    "# Wait for the input fields to be loaded\n",
    "username_input = WebDriverWait(driver, 10).until(\n",
    "    EC.presence_of_element_located((By.NAME, \"user\"))\n",
    ")\n",
    "password_input = WebDriverWait(driver, 10).until(\n",
    "    EC.presence_of_element_located((By.NAME, \"pass\"))\n",
    ")\n",
    "\n",
    "# credentials\n",
    "username_input.send_keys(username)\n",
    "password_input.send_keys(password)\n",
    "\n",
    "# Submit the form\n",
    "password_input.submit() \n",
    "\n",
    "# wait til login is successful\n",
    "WebDriverWait(driver, 20).until(\n",
    "    EC.url_contains(\"scopus.com\")\n",
    ")\n",
    "\n",
    "current_url = driver.current_url\n",
    "print(\"Current URL after attempting to log in:\", current_url)\n",
    "\n",
    "if \"scopus.com\" in current_url:\n",
    "    print(\"Login successful!\")\n",
    "else:\n",
    "    print(\"Login failed. Still on login page.\")\n",
    "input(\"Press Enter to close the browser...\")\n",
    "driver.quit()\n",
    "\n"
   ]
  },
  {
   "cell_type": "markdown",
   "metadata": {},
   "source": [
    "## v.2 (only first page)"
   ]
  },
  {
   "cell_type": "code",
   "execution_count": null,
   "metadata": {},
   "outputs": [],
   "source": [
    "from selenium import webdriver\n",
    "from selenium.webdriver.common.by import By\n",
    "from selenium.webdriver.support.ui import WebDriverWait\n",
    "from selenium.webdriver.support import expected_conditions as EC\n",
    "import time \n",
    "\n",
    "def main():\n",
    "    # Set up the Chrome driver\n",
    "    driver = webdriver.Chrome()\n",
    "\n",
    "    try:\n",
    "        # Open the login page\n",
    "        driver.get('https://login.chula.idm.oclc.org/login?qurl=https://www.scopus.com')\n",
    "\n",
    "        # Wait for the input fields to be loaded\n",
    "        username_input = WebDriverWait(driver, 10).until(\n",
    "            EC.presence_of_element_located((By.NAME, \"user\"))\n",
    "        )\n",
    "        password_input = WebDriverWait(driver, 10).until(\n",
    "            EC.presence_of_element_located((By.NAME, \"pass\"))\n",
    "        )\n",
    "\n",
    "        # credentials\n",
    "        username_input.send_keys(username) \n",
    "        password_input.send_keys(password)  \n",
    "\n",
    "        # Submit the form\n",
    "        password_input.submit()  \n",
    "\n",
    "        # ensure everything is ok\n",
    "        time.sleep(30)  \n",
    "\n",
    "        # Directly navigate to the specific results page\n",
    "        results_url = \"https://www-scopus-com.chula.idm.oclc.org/results/results.uri?sort=plf-f&src=s&sid=6a1c101025217859335e8fbcbc2a746f&sot=a&sdt=a&sl=42&s=ALL%28mahidol+university%29+AND+PUBYEAR+%3D+2024&origin=searchhistory&txGid=96d2c483c5068b1d5adbd38ade578008&sessionSearchId=6a1c101025217859335e8fbcbc2a746f&limit=10\"\n",
    "        driver.get(results_url)\n",
    "\n",
    "        print(\"Navigated to the specific search results page.\")\n",
    "\n",
    "        # Identify all document entries\n",
    "        document_entries = WebDriverWait(driver, 10).until(\n",
    "            EC.presence_of_all_elements_located((By.CSS_SELECTOR, \".TableItems-module__m0Z0b.TableItems-module__A6xTk\"))\n",
    "        )\n",
    "\n",
    "        count = 0 \n",
    "        docs = []\n",
    "        # Loop through each document \n",
    "        for document in document_entries:\n",
    "            texts = []\n",
    "            data_elements = document.find_elements(By.CSS_SELECTOR, \"td\")\n",
    "            for element in data_elements:\n",
    "                #print(element.text)  # Prints out the text in each 'td' element\n",
    "                texts.append(element.text)\n",
    "            count += 1\n",
    "            docs.append(texts)\n",
    "            print(f\"finish document {count}\")\n",
    "        print(docs)\n",
    "\n",
    "    except Exception as e:\n",
    "        print(f\"An error occurred: {e}\")\n",
    "    finally:\n",
    "        # Wait for user input to close the browser\n",
    "        input(\"Press Enter to close the browser...\")\n",
    "        driver.quit()\n",
    "\n",
    "if __name__ == \"__main__\":\n",
    "    main()\n"
   ]
  },
  {
   "cell_type": "markdown",
   "metadata": {},
   "source": [
    "## v.3 all pages"
   ]
  },
  {
   "cell_type": "code",
   "execution_count": 14,
   "metadata": {},
   "outputs": [
    {
     "name": "stdout",
     "output_type": "stream",
     "text": [
      "Navigated to the search results page.\n",
      "Navigated to the search results page.\n",
      "Navigated to the search results page.\n",
      "All data collected and saved to scopus_data.csv.\n"
     ]
    }
   ],
   "source": [
    "from selenium import webdriver\n",
    "from selenium.webdriver.common.by import By\n",
    "from selenium.webdriver.support.ui import WebDriverWait\n",
    "from selenium.webdriver.support import expected_conditions as EC\n",
    "import time \n",
    "import csv  \n",
    "\n",
    "def main():\n",
    "    # Set up the Chrome driver\n",
    "    driver = webdriver.Chrome()\n",
    "\n",
    "    try:\n",
    "        # Open the login page\n",
    "        driver.get('https://login.chula.idm.oclc.org/login?qurl=https://www.scopus.com')\n",
    "\n",
    "        # Wait for the input fields to be loaded\n",
    "        username_input = WebDriverWait(driver, 10).until(\n",
    "            EC.presence_of_element_located((By.NAME, \"user\"))\n",
    "        )\n",
    "        password_input = WebDriverWait(driver, 10).until(\n",
    "            EC.presence_of_element_located((By.NAME, \"pass\"))\n",
    "        )\n",
    "\n",
    "        # credentials\n",
    "        username_input.send_keys(username) \n",
    "        password_input.send_keys(password) \n",
    "\n",
    "        # Submit the form\n",
    "        password_input.submit()  \n",
    "\n",
    "        # ensure everything is completed\n",
    "        time.sleep(30)  \n",
    "\n",
    "        # Directly navigate to the specific results page\n",
    "        results_url = \"https://www-scopus-com.chula.idm.oclc.org/results/results.uri?sort=plf-f&src=s&sid=6a1c101025217859335e8fbcbc2a746f&sot=a&sdt=a&sl=42&s=ALL%28mahidol+university%29+AND+PUBYEAR+%3D+2024&origin=searchhistory&txGid=96d2c483c5068b1d5adbd38ade578008&sessionSearchId=6a1c101025217859335e8fbcbc2a746f&limit=10\"\n",
    "        driver.get(results_url)\n",
    "\n",
    "        all_data = []\n",
    "\n",
    "        # Start pagination loop\n",
    "        while True:\n",
    "            print(\"Navigated to the search results page.\")\n",
    "            document_entries = WebDriverWait(driver, 10).until(\n",
    "                EC.presence_of_all_elements_located((By.CSS_SELECTOR, \".TableItems-module__m0Z0b.TableItems-module__A6xTk\"))\n",
    "            )\n",
    "\n",
    "            # Loop through each document\n",
    "            for document in document_entries:\n",
    "                texts = [element.text for element in document.find_elements(By.CSS_SELECTOR, \"td\")]\n",
    "                all_data.append(texts)\n",
    "                #print(f\"Document collected: {texts}\")\n",
    "\n",
    "            # Find the 'Next' page button and click if not disabled\n",
    "            page_items = driver.find_elements(By.CSS_SELECTOR, \".page-item\")\n",
    "            if page_items:\n",
    "                next_button = page_items[-1].find_element(By.CSS_SELECTOR, \".Button-module__nc6_8.Button-module__rphhF.Button-module__VBKvn.Button-module__MlsfC.Button-module__hK_LA.Button-module__qDdAl\")\n",
    "                if \"disabled\" not in next_button.get_attribute(\"class\"):\n",
    "                    next_button.click()\n",
    "                    time.sleep(5)  # Wait for the next page to load\n",
    "                else:\n",
    "                    print(\"No more pages or 'Next' button is disabled.\")\n",
    "                    break\n",
    "            else:\n",
    "                print(\"No more pages or 'Next' button is not found.\")\n",
    "                break\n",
    "\n",
    "    except Exception as e:\n",
    "        print(f\"An error occurred: {e}\")\n",
    "    finally:\n",
    "        # Save all data to a CSV file\n",
    "        with open('scopus_data_mahidol2024.csv', 'w', newline='', encoding='utf-8') as file:\n",
    "            writer = csv.writer(file)\n",
    "            \n",
    "            for row in all_data:\n",
    "                writer.writerow(row)\n",
    "        print(\"All data collected and saved to scopus_data.csv.\")\n",
    "        input(\"Press Enter to close the browser...\")\n",
    "        driver.quit()\n",
    "\n",
    "if __name__ == \"__main__\":\n",
    "    main()\n"
   ]
  },
  {
   "cell_type": "markdown",
   "metadata": {},
   "source": [
    "# connect to mongodb"
   ]
  },
  {
   "cell_type": "code",
   "execution_count": 6,
   "metadata": {},
   "outputs": [
    {
     "data": {
      "text/html": [
       "<div>\n",
       "<style scoped>\n",
       "    .dataframe tbody tr th:only-of-type {\n",
       "        vertical-align: middle;\n",
       "    }\n",
       "\n",
       "    .dataframe tbody tr th {\n",
       "        vertical-align: top;\n",
       "    }\n",
       "\n",
       "    .dataframe thead th {\n",
       "        text-align: right;\n",
       "    }\n",
       "</style>\n",
       "<table border=\"1\" class=\"dataframe\">\n",
       "  <thead>\n",
       "    <tr style=\"text-align: right;\">\n",
       "      <th></th>\n",
       "      <th>article</th>\n",
       "    </tr>\n",
       "  </thead>\n",
       "  <tbody>\n",
       "    <tr>\n",
       "      <th>0</th>\n",
       "      <td>Correction to: Effects of customized insoles w...</td>\n",
       "    </tr>\n",
       "    <tr>\n",
       "      <th>1</th>\n",
       "      <td>Albumin levels in malaria patients: a systemat...</td>\n",
       "    </tr>\n",
       "    <tr>\n",
       "      <th>2</th>\n",
       "      <td>Enhancing effect of natural adjuvant, pandurat...</td>\n",
       "    </tr>\n",
       "    <tr>\n",
       "      <th>3</th>\n",
       "      <td>Sesamolin serves as an MYH14 inhibitor to sens...</td>\n",
       "    </tr>\n",
       "    <tr>\n",
       "      <th>4</th>\n",
       "      <td>Author Correction: Residual renal volume as a ...</td>\n",
       "    </tr>\n",
       "    <tr>\n",
       "      <th>...</th>\n",
       "      <td>...</td>\n",
       "    </tr>\n",
       "    <tr>\n",
       "      <th>1994</th>\n",
       "      <td>Exploring the possibility of carbon neutral di...</td>\n",
       "    </tr>\n",
       "    <tr>\n",
       "      <th>1995</th>\n",
       "      <td>The Effects of a School-Based Mental Health Pr...</td>\n",
       "    </tr>\n",
       "    <tr>\n",
       "      <th>1996</th>\n",
       "      <td>Television Viewing and Divorce in Indonesia: E...</td>\n",
       "    </tr>\n",
       "    <tr>\n",
       "      <th>1997</th>\n",
       "      <td>Networked Governance in Transnational Cooperat...</td>\n",
       "    </tr>\n",
       "    <tr>\n",
       "      <th>1998</th>\n",
       "      <td>Pension Plan and Household Food Insecurity of ...</td>\n",
       "    </tr>\n",
       "  </tbody>\n",
       "</table>\n",
       "<p>1999 rows × 1 columns</p>\n",
       "</div>"
      ],
      "text/plain": [
       "                                                article\n",
       "0     Correction to: Effects of customized insoles w...\n",
       "1     Albumin levels in malaria patients: a systemat...\n",
       "2     Enhancing effect of natural adjuvant, pandurat...\n",
       "3     Sesamolin serves as an MYH14 inhibitor to sens...\n",
       "4     Author Correction: Residual renal volume as a ...\n",
       "...                                                 ...\n",
       "1994  Exploring the possibility of carbon neutral di...\n",
       "1995  The Effects of a School-Based Mental Health Pr...\n",
       "1996  Television Viewing and Divorce in Indonesia: E...\n",
       "1997  Networked Governance in Transnational Cooperat...\n",
       "1998  Pension Plan and Household Food Insecurity of ...\n",
       "\n",
       "[1999 rows x 1 columns]"
      ]
     },
     "execution_count": 6,
     "metadata": {},
     "output_type": "execute_result"
    }
   ],
   "source": [
    "import pandas as pd\n",
    "df = pd.read_csv('../../data/modified_data_mahidol2024.csv')\n",
    "df"
   ]
  },
  {
   "cell_type": "code",
   "execution_count": 14,
   "metadata": {},
   "outputs": [
    {
     "name": "stdout",
     "output_type": "stream",
     "text": [
      "Data has been uploaded to MongoDB successfully.\n"
     ]
    }
   ],
   "source": [
    "import pandas as pd\n",
    "from pymongo import MongoClient\n",
    "\n",
    "data = df.to_dict(orient='records')\n",
    "mongo_uri = os.environ.get(\"mongo_uri\")\n",
    "client = MongoClient(mongo_uri)\n",
    "\n",
    "# Select the database and collection\n",
    "db = client['scrape_data']\n",
    "collection = db['titles']\n",
    "\n",
    "# Insert the data into the collection\n",
    "collection.insert_many(data)\n",
    "\n",
    "print(\"Data has been uploaded to MongoDB successfully.\")"
   ]
  }
 ],
 "metadata": {
  "kernelspec": {
   "display_name": "datascience_finalproject",
   "language": "python",
   "name": "python3"
  },
  "language_info": {
   "codemirror_mode": {
    "name": "ipython",
    "version": 3
   },
   "file_extension": ".py",
   "mimetype": "text/x-python",
   "name": "python",
   "nbconvert_exporter": "python",
   "pygments_lexer": "ipython3",
   "version": "3.10.14"
  }
 },
 "nbformat": 4,
 "nbformat_minor": 2
}
